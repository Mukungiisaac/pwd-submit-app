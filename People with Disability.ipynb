{
 "cells": [
  {
   "cell_type": "code",
   "execution_count": 1,
   "id": "b67f63b7-99a4-474b-8169-1397ebd98c29",
   "metadata": {
    "collapsed": true,
    "jupyter": {
     "outputs_hidden": true
    }
   },
   "outputs": [
    {
     "name": "stdout",
     "output_type": "stream",
     "text": [
      "Note: you may need to restart the kernel to use updated packages.Requirement already satisfied: pandas in f:\\anaconda\\lib\\site-packages (2.2.2)\n",
      "Requirement already satisfied: streamlit in f:\\anaconda\\lib\\site-packages (1.37.1)\n",
      "Requirement already satisfied: openpyxl in f:\\anaconda\\lib\\site-packages (3.1.5)\n",
      "Requirement already satisfied: numpy>=1.26.0 in f:\\anaconda\\lib\\site-packages (from pandas) (1.26.4)\n",
      "Requirement already satisfied: python-dateutil>=2.8.2 in c:\\users\\izooh\\appdata\\roaming\\python\\python312\\site-packages (from pandas) (2.9.0.post0)\n",
      "Requirement already satisfied: pytz>=2020.1 in f:\\anaconda\\lib\\site-packages (from pandas) (2024.1)\n",
      "Requirement already satisfied: tzdata>=2022.7 in f:\\anaconda\\lib\\site-packages (from pandas) (2023.3)\n",
      "Requirement already satisfied: altair<6,>=4.0 in f:\\anaconda\\lib\\site-packages (from streamlit) (5.0.1)\n",
      "Requirement already satisfied: blinker<2,>=1.0.0 in f:\\anaconda\\lib\\site-packages (from streamlit) (1.6.2)\n",
      "Requirement already satisfied: cachetools<6,>=4.0 in f:\\anaconda\\lib\\site-packages (from streamlit) (5.3.3)\n",
      "Requirement already satisfied: click<9,>=7.0 in f:\\anaconda\\lib\\site-packages (from streamlit) (8.1.7)\n",
      "Requirement already satisfied: packaging<25,>=20 in c:\\users\\izooh\\appdata\\roaming\\python\\python312\\site-packages (from streamlit) (24.2)\n",
      "Requirement already satisfied: pillow<11,>=7.1.0 in f:\\anaconda\\lib\\site-packages (from streamlit) (10.4.0)\n",
      "Requirement already satisfied: protobuf<6,>=3.20 in f:\\anaconda\\lib\\site-packages (from streamlit) (4.25.3)\n",
      "Requirement already satisfied: pyarrow>=7.0 in f:\\anaconda\\lib\\site-packages (from streamlit) (16.1.0)\n",
      "Requirement already satisfied: requests<3,>=2.27 in c:\\users\\izooh\\appdata\\roaming\\python\\python312\\site-packages (from streamlit) (2.32.3)\n",
      "Requirement already satisfied: rich<14,>=10.14.0 in f:\\anaconda\\lib\\site-packages (from streamlit) (13.7.1)\n",
      "Requirement already satisfied: tenacity<9,>=8.1.0 in f:\\anaconda\\lib\\site-packages (from streamlit) (8.2.3)\n",
      "Requirement already satisfied: toml<2,>=0.10.1 in f:\\anaconda\\lib\\site-packages (from streamlit) (0.10.2)\n",
      "Requirement already satisfied: typing-extensions<5,>=4.3.0 in c:\\users\\izooh\\appdata\\roaming\\python\\python312\\site-packages (from streamlit) (4.12.2)\n",
      "Requirement already satisfied: gitpython!=3.1.19,<4,>=3.0.7 in f:\\anaconda\\lib\\site-packages (from streamlit) (3.1.43)\n",
      "Requirement already satisfied: pydeck<1,>=0.8.0b4 in f:\\anaconda\\lib\\site-packages (from streamlit) (0.8.0)\n",
      "Requirement already satisfied: tornado<7,>=6.0.3 in c:\\users\\izooh\\appdata\\roaming\\python\\python312\\site-packages (from streamlit) (6.4.2)\n",
      "Requirement already satisfied: watchdog<5,>=2.1.5 in f:\\anaconda\\lib\\site-packages (from streamlit) (4.0.1)\n",
      "Requirement already satisfied: et-xmlfile in f:\\anaconda\\lib\\site-packages (from openpyxl) (1.1.0)\n",
      "Requirement already satisfied: jinja2 in c:\\users\\izooh\\appdata\\roaming\\python\\python312\\site-packages (from altair<6,>=4.0->streamlit) (3.1.5)\n",
      "Requirement already satisfied: jsonschema>=3.0 in c:\\users\\izooh\\appdata\\roaming\\python\\python312\\site-packages (from altair<6,>=4.0->streamlit) (4.23.0)\n",
      "Requirement already satisfied: toolz in f:\\anaconda\\lib\\site-packages (from altair<6,>=4.0->streamlit) (0.12.0)\n",
      "Requirement already satisfied: colorama in c:\\users\\izooh\\appdata\\roaming\\python\\python312\\site-packages (from click<9,>=7.0->streamlit) (0.4.6)\n",
      "Requirement already satisfied: gitdb<5,>=4.0.1 in f:\\anaconda\\lib\\site-packages (from gitpython!=3.1.19,<4,>=3.0.7->streamlit) (4.0.7)\n",
      "Requirement already satisfied: six>=1.5 in c:\\users\\izooh\\appdata\\roaming\\python\\python312\\site-packages (from python-dateutil>=2.8.2->pandas) (1.17.0)\n",
      "Requirement already satisfied: charset-normalizer<4,>=2 in c:\\users\\izooh\\appdata\\roaming\\python\\python312\\site-packages (from requests<3,>=2.27->streamlit) (3.4.1)\n",
      "Requirement already satisfied: idna<4,>=2.5 in c:\\users\\izooh\\appdata\\roaming\\python\\python312\\site-packages (from requests<3,>=2.27->streamlit) (3.10)\n",
      "Requirement already satisfied: urllib3<3,>=1.21.1 in c:\\users\\izooh\\appdata\\roaming\\python\\python312\\site-packages (from requests<3,>=2.27->streamlit) (2.3.0)\n",
      "Requirement already satisfied: certifi>=2017.4.17 in c:\\users\\izooh\\appdata\\roaming\\python\\python312\\site-packages (from requests<3,>=2.27->streamlit) (2025.1.31)\n",
      "Requirement already satisfied: markdown-it-py>=2.2.0 in f:\\anaconda\\lib\\site-packages (from rich<14,>=10.14.0->streamlit) (2.2.0)\n",
      "Requirement already satisfied: pygments<3.0.0,>=2.13.0 in c:\\users\\izooh\\appdata\\roaming\\python\\python312\\site-packages (from rich<14,>=10.14.0->streamlit) (2.19.1)\n",
      "Requirement already satisfied: smmap<5,>=3.0.1 in f:\\anaconda\\lib\\site-packages (from gitdb<5,>=4.0.1->gitpython!=3.1.19,<4,>=3.0.7->streamlit) (4.0.0)\n",
      "Requirement already satisfied: MarkupSafe>=2.0 in c:\\users\\izooh\\appdata\\roaming\\python\\python312\\site-packages (from jinja2->altair<6,>=4.0->streamlit) (3.0.2)\n",
      "Requirement already satisfied: attrs>=22.2.0 in c:\\users\\izooh\\appdata\\roaming\\python\\python312\\site-packages (from jsonschema>=3.0->altair<6,>=4.0->streamlit) (25.1.0)\n",
      "Requirement already satisfied: jsonschema-specifications>=2023.03.6 in c:\\users\\izooh\\appdata\\roaming\\python\\python312\\site-packages (from jsonschema>=3.0->altair<6,>=4.0->streamlit) (2024.10.1)\n",
      "Requirement already satisfied: referencing>=0.28.4 in c:\\users\\izooh\\appdata\\roaming\\python\\python312\\site-packages (from jsonschema>=3.0->altair<6,>=4.0->streamlit) (0.36.2)\n",
      "Requirement already satisfied: rpds-py>=0.7.1 in c:\\users\\izooh\\appdata\\roaming\\python\\python312\\site-packages (from jsonschema>=3.0->altair<6,>=4.0->streamlit) (0.22.3)\n",
      "Requirement already satisfied: mdurl~=0.1 in f:\\anaconda\\lib\\site-packages (from markdown-it-py>=2.2.0->rich<14,>=10.14.0->streamlit) (0.1.0)\n",
      "\n"
     ]
    },
    {
     "name": "stderr",
     "output_type": "stream",
     "text": [
      "\n",
      "[notice] A new release of pip is available: 25.0 -> 25.1.1\n",
      "[notice] To update, run: python.exe -m pip install --upgrade pip\n"
     ]
    }
   ],
   "source": [
    "pip install pandas streamlit openpyxl\n"
   ]
  },
  {
   "cell_type": "code",
   "execution_count": 5,
   "id": "a45d5360-78c3-4bb4-906b-38c81dea1697",
   "metadata": {},
   "outputs": [
    {
     "name": "stdout",
     "output_type": "stream",
     "text": [
      "                Name       Phone  Disability Type Assistive Device  \\\n",
      "0     Juliana Joshua   746842795         Albinism  Sun-Screams/Hat   \n",
      "1     Domitila Nduku   711866737         Albinism  Sun-Screams/Hat   \n",
      "2       Penina Vaati  1112166687   Celebral palsy          Pampers   \n",
      "3      Susan Kavengi   726341745   Celebral palsy          Pampers   \n",
      "4    Blessing Mwende   715811802   Celebral palsy          Pampers   \n",
      "5     Julius Musembi   728088471           Vision       White cane   \n",
      "6     Simon Mbilondo   795429944           Vision       White cane   \n",
      "7     Gideon Musango   794335419           Vision       White cane   \n",
      "8     Gideon Musango   794335419       Lower Limb   Elbow Crutches   \n",
      "9       Musuma Peter   715614469       Lower Limb   Elbow Crutches   \n",
      "10    Benjamin Mawio   796313739       Lower Limb   Elbow Crutches   \n",
      "11      John Kisangu   715029708       Lower Limb   Elbow Crutches   \n",
      "12    Philip Kithome   725598093       Lower Limb   Elbow Crutches   \n",
      "13    Kasumuni Mutua   768162879       Lower Limb   Elbow Crutches   \n",
      "14     Richard Mbiti   711448923         Weakness   Elbow Crutches   \n",
      "15      Damaris Paul   797853189       Hemiplegia   Elbow Crutches   \n",
      "16    Kaviti Kilonzo   710381541    Bn amputation   Elbow Crutches   \n",
      "17    Albert Mwengea   741899504       Paraplegic   Elbow Crutches   \n",
      "18     Diana Syombua   712193963    Limp Weakness   Elbow Crutches   \n",
      "19  Jeremiah Mutisya   717458081  Limb Shortening   Elbow Crutches   \n",
      "20     Kalutu Matuku   742170662  Limb Shortening   Elbow Crutches   \n",
      "21    Kamwila Mwathi   714728116        Club foot   Elbow Crutches   \n",
      "22      Simon Wambua   798549290        Club foot   Elbow Crutches   \n",
      "23     Regina Wambua   707964910    Limb Weakness   Elbow Crutches   \n",
      "24      James Kituku   706616026        Paralysis   Elbow Crutches   \n",
      "\n",
      "     Sub-County     Ward  Unnamed: 6  \n",
      "0   Kitui South  Kanziko         NaN  \n",
      "1   Kitui South  Kanziko         NaN  \n",
      "2   Kitui South   Ikutha         NaN  \n",
      "3   Kitui South   Ikutha         NaN  \n",
      "4   Kitui South  Kanziko         NaN  \n",
      "5   Kitui South   Ikutha         NaN  \n",
      "6   Kitui South  Kanziko         NaN  \n",
      "7   Kitui South  Kanziko         NaN  \n",
      "8   Kitui South  Kanziko         NaN  \n",
      "9   Kitui South  Kanziko         NaN  \n",
      "10  Kitui South  Kanziko         NaN  \n",
      "11  Kitui South   Ikutha         NaN  \n",
      "12  Kitui South   Ikutha         NaN  \n",
      "13  Kitui South   Ikutha         NaN  \n",
      "14  Kitui South   Ikutha         NaN  \n",
      "15  Kitui South   Ikutha         NaN  \n",
      "16  Kitui South   Ikutha         NaN  \n",
      "17  Kitui South   Ikutha         NaN  \n",
      "18  Kitui South   Ikutha         NaN  \n",
      "19  Kitui South   Ikutha         NaN  \n",
      "20  Kitui South   Ikutha         NaN  \n",
      "21  Kitui South   Ikutha         NaN  \n",
      "22  Kitui South   Ikutha         NaN  \n",
      "23  Kitui South   Ikutha         NaN  \n",
      "24  Kitui South   Ikutha         NaN  \n"
     ]
    }
   ],
   "source": [
    "import pandas as pd\n",
    "df = pd.read_csv(\"C:/Users/IZOOH/Desktop/PWD/PWD_Disability_Set.csv\")\n",
    "print(df.head(25))"
   ]
  },
  {
   "cell_type": "code",
   "execution_count": 23,
   "id": "7704c179-e7f0-45a1-b136-ae2148c7dbee",
   "metadata": {
    "scrolled": true
   },
   "outputs": [
    {
     "data": {
      "text/plain": [
       "\"                       Name                Phone             Disability Type            Assistive Device      Sub-County             Ward  Unnamed: 6\\n0            Juliana Joshua            746842795                    Albinism             Sun-Screams/Hat     Kitui South          Kanziko         NaN\\n1            Domitila Nduku            711866737                    Albinism             Sun-Screams/Hat     Kitui South          Kanziko         NaN\\n2              Penina Vaati           1112166687              Celebral palsy                     Pampers     Kitui South           Ikutha         NaN\\n3             Susan Kavengi            726341745              Celebral palsy                     Pampers     Kitui South           Ikutha         NaN\\n4           Blessing Mwende            715811802              Celebral palsy                     Pampers     Kitui South          Kanziko         NaN\\n5            Julius Musembi            728088471                      Vision                  White cane     Kitui South           Ikutha         NaN\\n6            Simon Mbilondo            795429944                      Vision                  White cane     Kitui South          Kanziko         NaN\\n7            Gideon Musango            794335419                      Vision                  White cane     Kitui South          Kanziko         NaN\\n8            Gideon Musango            794335419                  Lower Limb              Elbow Crutches     Kitui South          Kanziko         NaN\\n9              Musuma Peter            715614469                  Lower Limb              Elbow Crutches     Kitui South          Kanziko         NaN\\n10           Benjamin Mawio            796313739                  Lower Limb              Elbow Crutches     Kitui South          Kanziko         NaN\\n11             John Kisangu            715029708                  Lower Limb              Elbow Crutches     Kitui South           Ikutha         NaN\\n12           Philip Kithome            725598093                  Lower Limb              Elbow Crutches     Kitui South           Ikutha         NaN\\n13           Kasumuni Mutua            768162879                  Lower Limb              Elbow Crutches     Kitui South           Ikutha         NaN\\n14            Richard Mbiti            711448923                    Weakness              Elbow Crutches     Kitui South           Ikutha         NaN\\n15             Damaris Paul            797853189                  Hemiplegia              Elbow Crutches     Kitui South           Ikutha         NaN\\n16           Kaviti Kilonzo            710381541               Bn amputation              Elbow Crutches     Kitui South           Ikutha         NaN\\n17           Albert Mwengea            741899504                  Paraplegic              Elbow Crutches     Kitui South           Ikutha         NaN\\n18            Diana Syombua            712193963               Limp Weakness              Elbow Crutches     Kitui South           Ikutha         NaN\\n19         Jeremiah Mutisya            717458081             Limb Shortening              Elbow Crutches     Kitui South           Ikutha         NaN\\n20            Kalutu Matuku            742170662             Limb Shortening              Elbow Crutches     Kitui South           Ikutha         NaN\\n21           Kamwila Mwathi            714728116                   Club foot              Elbow Crutches     Kitui South           Ikutha         NaN\\n22             Simon Wambua            798549290                   Club foot              Elbow Crutches     Kitui South           Ikutha         NaN\\n23            Regina Wambua            707964910               Limb Weakness              Elbow Crutches     Kitui South           Ikutha         NaN\\n24             James Kituku            706616026                   Paralysis              Elbow Crutches     Kitui South           Ikutha         NaN\\n25             John Kithiki            798504662               Bn amputation              Elbow Crutches     Kitui South           Ikutha         NaN\\n26             Andrew Mutua            115453058               Limb Weakness              Elbow Crutches     Kitui South           Ikutha         NaN\\n27          Patrick Mwanzia            700741040                  Low Vision                 Eye glasses     Kitui Rural         Kanyangi         NaN\\n28            Alice Syombua            726139829                    Albinism             Sun Eye glasses     Kitui Rural           Kisasi         NaN\\n29              John Katanu            795944273              Celebral palsy                     Pampers     Kitui Rural           Kisasi         NaN\\n30            Dickson Sammy            713972034              Celebral palsy                     Pampers     Kitui Rural           Kisasi         NaN\\n31             Jellen Muema            714337627              Celebral palsy                     Pampers     Kitui Rural           Kisasi         NaN\\n32            Loise Syonthi            705226680              Celebral palsy                     Pampers     Kitui Rural           Kisasi         NaN\\n33        Patrick Mwangangi            794472311              Celebral palsy                     Pampers     Kitui Rural           Kisasi         NaN\\n34            Brian Mutinda            794974165              Celebral palsy                     Pampers     Kitui Rural           Kisasi         NaN\\n35          Blessing Mwende            101968537              Celebral palsy                     Pampers     Kitui Rural          Mbitini         NaN\\n36             Patrick Mumo            114045948              Celebral palsy                     Pampers     Kitui Rural          Mbitini         NaN\\n37            Emmanuel Mumo            714674335              Celebral palsy                     Pampers     Kitui Rural          Mbitini         NaN\\n38          Francis Mwendwa            708067254              Celebral palsy                     Pampers     Kitui Rural          Mbitini         NaN\\n39                Joy Nyiva            798055306                      Autism                     Pampers     Kitui Rural          Mbitini         NaN\\n40          Abigael Mutindi            720577585              Celebral palsy                     Pampers     Kitui Rural         Kiusyani         NaN\\n41            James Mutisya            704562027              Celebral palsy                     Pampers     Kitui Rural         Kiusyani         NaN\\n42        Josephat Muntotta            742293222              Celebral palsy                     Pampers     Kitui Rural  Yatta- Kwavonza         NaN\\n43            Munyao Masila            714211173           Visual impairment                  White cane     Kitui Rural           Kisasi         NaN\\n44              Mueni Kasau            728803558           Visual impairment                  White cane     Kitui Rural           Kisasi         NaN\\n45             Dorcas Katio            716584976           Visual impairment                  White cane     Kitui Rural          Mbitini         NaN\\n46            Mercy Mulinge            728599959           Visual impairment                  White cane     Kitui Rural          Mbitini         NaN\\n47          Willie Mathuthu            707302814           Visual impairment                  White cane     Kitui Rural          Mbitini         NaN\\n48           John Kathumula            723211306       Lower Limb Imputation                  White cane     Kitui Rural          Mbitini         NaN\\n49              Mbuvi Kalai            721388731               Vision(Blind)                  White cane     Kitui Rural         Kiusyani         NaN\\n50               John Mailu            792859309                      Vision                  White cane     Kitui Rural         Kiusyani         NaN\\n51          Rachael Kilonzi            715192475                   Blindness                  White cane     Kitui Rural         Kiusyani         NaN\\n52             Danson Silva            111658214                      Vision                  White cane     Kitui Rural         Kanyangi         NaN\\n53    Domitila Maria Mwathi            715552382                   Club foot              Elbow Crutches     Kitui Rural          Kamutei         NaN\\n54             Susan Nzyuko            791352966              Lt hemiparesis              Elbow Crutches     Kitui Rural         Kanyangi         NaN\\n55              Mbete Mulei            746068918                   Club foot              Elbow Crutches     Kitui Rural         Kanyangi         NaN\\n56             Alice Maingi            715541829               Knee Weakness              Elbow Crutches     Kitui Rural         Kanyangi         NaN\\n57           Wanza Kinyaata            798798950                 Hemiparesis              Elbow Crutches     Kitui Rural         Kanyangi         NaN\\n58               Simon Muia            793504931                 Hemiparesis              Elbow Crutches     Kitui Rural         Kanyangi         NaN\\n59            Esther Katiwa            701930662             Limb Shortening              Elbow Crutches     Kitui Rural         Kanyangi         NaN\\n60             Mailu Kanyau            728855244             Limb Shortening              Elbow Crutches     Kitui Rural         Kanyangi         NaN\\n61            Brian Malombe            702424148             Limb Shortening              Elbow Crutches     Kitui Rural         Kanyangi         NaN\\n62             Sammy Daniel            746433114             Limb Shortening              Elbow Crutches     Kitui Rural         Kiusyani         NaN\\n63          Musenya Mwanthi            710844902                   Club foot              Elbow Crutches     Kitui Rural         Kiusyani         NaN\\n64            Nzambi Kisilu            716940013               Knocked knees              Elbow Crutches     Kitui Rural         Kiusyani         NaN\\n65             Gladys Mbevi            701106859                  Short Limb              Elbow Crutches     Kitui Rural         Kiusyani         NaN\\n66             Musyoka John            748506968         Lower limb weakness              Elbow Crutches     Kitui Rural         Kiusyani         NaN\\n67             Rodah Joseph            795966055         Lower limb weakness              Elbow Crutches     Kitui Rural         Kiusyani         NaN\\n68            Martha Mutuku            798629083       Below knee amputation              Elbow Crutches     Kitui Rural          Mbitini         NaN\\n69          Margret Kavinya            724484280       Below knee amputation              Elbow Crutches     Kitui Rural          Mbitini         NaN\\n70            Joshua Wambua            726863671       Below knee amputation              Elbow Crutches     Kitui Rural          Mbitini         NaN\\n71           Kibwea Mathoka            720486887                  Lower Limb              Elbow Crutches     Kitui Rural          Mbitini         NaN\\n72             Queen Nyamai            719175002                   LowerLimb              Elbow Crutches     Kitui Rural          Mbitini         NaN\\n73            David Racheal            112381399                       Polio              Elbow Crutches     Kitui Rural          Mbitini         NaN\\n74            Kalekye Muema            784330221                   Prothesis              Elbow Crutches     Kitui Rural          Mbitini         NaN\\n75     Scholasticah Kilunda            700035785       Lower Limb Imputation              Elbow Crutches     Kitui Rural          Mbitini         NaN\\n76            Musembi Njeri            720926470           Visual impairment              Elbow Crutches     Kitui Rural           Kisasi         NaN\\n77             Mutuku Kyalo            746125095           Right hemiparesis              Elbow Crutches     Kitui Rural           Kisasi         NaN\\n78              Tito Matiki            796472096            Left hemiparesis              Elbow Crutches     Kitui Rural           Kisasi         NaN\\n79           Kalekye Muasya            715778166                   Paralysis              Elbow Crutches     Kitui Rural           Kisasi         NaN\\n80              Naomi Peter            759373213                   Paralysis              Elbow Crutches     Kitui Rural           Kisasi         NaN\\n81             Monah Mwanza            704373732                  Monoplegia              Elbow Crutches     Kitui Rural           Kisasi         NaN\\n82            Margret David            746069471     Congenital Malformation              Elbow Crutches     Kitui Rural           Kisasi         NaN\\n83            Nzomo Musyoka            721128261                   Prothesis              Elbow Crutches     Kitui Rural           Kisasi         NaN\\n84           William Muinde            790431324     Congenital Malformation              Elbow Crutches     Kitui Rural           Kisasi         NaN\\n85             Mwendwa Ngei            705226580               Limb weakness              Elbow Crutches     Kitui Rural           Kisasi         NaN\\n86                Eric Mumo            722717267               Limb weakness              Elbow Crutches     Kitui Rural           Kisasi         NaN\\n87             John Nthunga            725980236                   Blindness                  White cane    Mwingi North         Tseikuru         NaN\\n88            Nancy Mungure             79876577                   Blindness                  White cane    Mwingi North         Tseikuru         NaN\\n89              Ngali Nguna            796644224                   Blindness                  White cane    Mwingi North         Tseikuru         NaN\\n90             Grace Mutemi            714230816                   Blindness                  White cane    Mwingi North         Tseikuru         NaN\\n91            Mawia Munyoki            716391905                   Blindness                  White cane    Mwingi North         Tseikuru         NaN\\n92         Richard Kingangi            708865191                   Blindness                  White cane    Mwingi North         Tseikuru         NaN\\n93           Muthui Mutisya            746339793                   Blindness                  White cane    Mwingi North         Tseikuru         NaN\\n94              Kaki Mwenga            748799228                   Blindness                  White cane    Mwingi North         Tseikuru         NaN\\n95          Peter Mwandikwa            713967859           Partial Blindness                  White cane    Mwingi North         Tseikuru         NaN\\n96             Mutei Maluki            792951559                Lt eye Blind                  White cane    Mwingi North         Tseikuru         NaN\\n97             Titus Mutemi            797276212                Lt eye Blind                  White cane    Mwingi North         Tseikuru         NaN\\n98             Mwinzi Mbevo            716840919                   Blindness                  White cane    Mwingi North         Tseikuru         NaN\\n99           Esther Kasyoka            718395727                   Blindness                  White cane    Mwingi North            Katse         NaN\\n100             Karea Kituu            798920282                   Blindness                  White cane    Mwingi North            Katse         NaN\\n101             Kituu Kimbu            798920282                   Blindness                  White cane    Mwingi North            katse         NaN\\n102            John Kitheka            725597306                   Blindness                  White cane    Mwingi North            Katse         NaN\\n103          Kathumba Manzi  706262970(neighbor)                   Blindness                  White cane    Mwingi North            Katse         NaN\\n104           Julius Marigu            768897028                   Blindness                  White cane    Mwingi North            Katse         NaN\\n105          Muthangi Mbiru            710172340                   Blindness                  White cane    Mwingi North            Katse         NaN\\n106         Patrick Musyimi            704119748                   Blindness                  White cane    Mwingi North            Kyuso         NaN\\n107           Peter Musyoka            710836652                   Blindness                  White cane    Mwingi North            Kyuso         NaN\\n108          Richard Maundu            748740399               Rf hemiplegia                    Crutches    Mwingi North            Kyuso         NaN\\n109            David Matuku            725564908               Rf hemiplegia                    Crutches    Mwingi North            Kyuso         NaN\\n110          Edward Kimwele            721607708                  Paraplegia              Elbow Crutches    Mwingi North            Kyuso         NaN\\n111             Rose Mwende            792750552                L.L Weakness         Auxilliary cructhes    Mwingi North            Kyuso         NaN\\n112           Samuel Mwenga            768975106              B.K amputation                    Crutches    Mwingi North            Katse         NaN\\n113         Stephen Kavanga            797178266                       Polio                    Crutches    Mwingi North            Katse         NaN\\n114           Jeseph Muthui            726830812                       Polio                    Crutches    Mwingi North            Katse         NaN\\n115              Leah Mbuii            707606910                       Polio                    Crutches    Mwingi North            Katse         NaN\\n116       Christine Muyathi            722919642               Rf hemiplegia                    Crutches    Mwingi North            Katse         NaN\\n117          Marigu Kambati            701761472           Lf limb paralysis                    Crutches    Mwingi North            Katse         NaN\\n118            Kivuto Mutie            794213055               Rf hemiplegia              Elbow Crutches    Mwingi North            Kyuso         NaN\\n119           Dorcas Makasi            701389401               Lt hemiplegia                    Crutches    Mwingi North            Katse         NaN\\n120         Mukiri Kithondu            715083898                   Paralysis                    Crutches    Mwingi North         Tseikuru         NaN\\n121            Caren Kawira            701657850                   Paralysis                    Crutches    Mwingi North         Tseikuru         NaN\\n122             Grace Mawia            714230816                      Stroke                    Crutches    Mwingi North         Tseikuru         NaN\\n123           Mumbe Kimanzi            748714039                      Stroke                    Crutches    Mwingi North         Tseikuru         NaN\\n124           Mueni Muthwii            746365452               Lt hemiplegia                    Crutches    Mwingi North         Tseikuru         NaN\\n125          Musili  Muatha            742134368           Rt B.K amputation                    Crutches    Mwingi North         Tseikuru         NaN\\n126           Malia Kisomba            716359061                       Polio                    Crutches    Mwingi North         Tseikuru         NaN\\n127         Mukiri Kithondu            715083898              B.K amputation                    Crutches    Mwingi North         Tseikuru         NaN\\n128      Christine Ngunguni            790698917           Rt B.K amputation                    Crutches    Mwingi North         Tseikuru         NaN\\n129           Kanini Mwenga            725874341                  Hemiplegia                    Crutches    Mwingi North         Tseikuru         NaN\\n130           Benard Syengo            723575744           Rt B.K amputation                    Crutches    Mwingi North         Tseikuru         NaN\\n131            Musyimi Muli            723622600               Lt hemiplegia                    Crutches    Mwingi North         Tseikuru         NaN\\n132        Stephen Mwendwa             797430041            Rt leg paralysis                    Crutches    Mwingi North         Tseikuru         NaN\\n133             Lucy Karimi            701428012                   Paralysis              Elbow Crutches    Mwingi North         Tseikuru         NaN\\n134            Kibara Kivui            796644258            Lt leg Paralysis              Elbow Crutches    Mwingi North         Tseikuru         NaN\\n135            Koki Kimwele            742263564             Lt leg weakness               Walking Stick    Mwingi North         Tseikuru         NaN\\n136        Joseph Mwangangi            745621901            Rt leg paralysis               Walking Stick    Mwingi North         Tseikuru         NaN\\n137        Kinga'ng'i Nguru            705591989           Partial Blindness               Walking Stick    Mwingi North         Tseikuru         NaN\\n138           Syovo Kitunda            799896503                   Blindness                  White cane      Kitui East            Zombe         NaN\\n139              Noah Mutie            716172857           Visual impairment                  White cane      Kitui East            Zombe         NaN\\n140          Martha Mwendwa            711643179                      Vision                  White cane      Kitui East            Endau         NaN\\n141         Monicah Mutambu            757737360                      Vision                  White cane      Kitui East            Endau         NaN\\n142        Jackline Muthini            741782096                      Vision                  White cane      Kitui East            Endau         NaN\\n143           Ngena Kavindu            799372374                      Vision                  White cane      Kitui East            Endau         NaN\\n144           Meshack Muoki                  NaN                      Vision                  White cane      Kitui East            Endau         NaN\\n145           Muthui Kavita            716151220                      Vision                  White cane      Kitui East            Endau         NaN\\n146           Mathew Mwanzi            795807810                   Blindness                  White cane      Kitui East            Endau         NaN\\n147            Flida Kasina                  NaN                   Blindness                  White cane      Kitui East            Endau         NaN\\n148             Mutua Musya            721557668                      Vision                  White cane      Kitui East            Endau         NaN\\n149            John Munyoki            701907739              Celebral palsy                     Pampers      Kitui East            Zombe         NaN\\n150           Victoria Kaki            740412559                    Albinism                 Sun_screams      Kitui East            Endau         NaN\\n151             Jacob Makau            716934176                    Albinism                        Hats      Kitui East            Endau         NaN\\n152         Kithuku Mutinda            706764066             Limb Shortening              Elbow Crutches      Kitui East            Endau         NaN\\n153            Benard Mulwa            716245836  MCP left finger amputation              Elbow Crutches      Kitui East            Endau         NaN\\n154            Joseph Mutie            111378960            Lt AK amputation              Elbow Crutches      Kitui East            Endau         NaN\\n155            Kitonga Mumo            740272896               AK amputation              Elbow Crutches      Kitui East            Endau         NaN\\n156            Rose Musyoka            704463564                         NaN              Elbow Crutches      Kitui East            Endau         NaN\\n157      Josephine Munyasya            703316736          Talipes -Club foot   Elbow Crutches(bilateral)      Kitui East            Endau         NaN\\n158             Peter Mbuvi            702364305             Limb Shortening              Elbow Crutches      Kitui East            Mutha         NaN\\n159           Anna Ndambuki            705376775               Limb weakness              Elbow Crutches      Kitui East            Mutha         NaN\\n160            John Katungu            758391859                 Hemiparesis              Elbow Crutches      Kitui East            Mutha         NaN\\n161            Sammy Kamuta            711997189         Lower limb weakness              Elbow Crutches      Kitui East            Mutha         NaN\\n162           Hellen Kambua            111997189              Knee Deformity              Elbow Crutches      Kitui East            Mutha         NaN\\n163          Kabwere Munyao            725919024               Limb weakness              Elbow Crutches      Kitui East            Zombe         NaN\\n164          Mutuku Mbaluka            799327994                Short Statue              Elbow Crutches      Kitui East            Zombe         NaN\\n165           Festus Muthui            721742003                Short Statue              Elbow Crutches      Kitui East            Zombe         NaN\\n166         Kalumu Mwanditu            704372982              Hemi Paralysis              Elbow Crutches      Kitui East            Zombe         NaN\\n167             John Maundu            114981862                  Paraplegia              Elbow Crutches      Kitui East            Zombe         NaN\\n168            Lazalo Peter            783881960               Limb weakness              Elbow Crutches      Kitui East            Zombe         NaN\\n169           Haron Musyoka            740095326           Knee Contractures              Elbow Crutches      Kitui East            Zombe         NaN\\n170         Boniface Benard            705026733           Visual impairment                  White cane     Mwingi West          Migwani         NaN\\n171          Meshack Katuri            714678017           Visual impairment                  White cane     Mwingi West          Migwani         NaN\\n172             Rose Martha            727456640                   Blindness                  White cane     Mwingi West          Migwani         NaN\\n173             Samuel Ngui            712790626                   Blindness                  White cane     Mwingi West          Migwani         NaN\\n174         Veronicah Mueni            720364308               Lt amputation         Auxilliary cructhes     Mwingi West          Migwani         NaN\\n175           Kavandi Kavui            729425255            Rf B.K amputaion         Prosthesis crutches     Mwingi West          Migwani         NaN\\n176             David Isuni            704461698           Rf A.K amputation         Auxilliary cructhes     Mwingi West          Migwani         NaN\\n177         Julius Munywoki            724928526               Lt hemiplegia                    Crutches     Mwingi West          Migwani         NaN\\n178           James Kimanzi            759608624             Rf LL paralysis         Auxilliary cructhes     Mwingi West          Migwani         NaN\\n179           Kanyaa Mwanya            794340927               Rf hemiplegia                    Crutches     Mwingi West          Migwani         NaN\\n180             Mary Nzunga            714124501               Lt hemiplegia                    Crutches     Mwingi West          Migwani         NaN\\n181            Victor Makau            791049149               Rf hemiplegia                    Crutches     Mwingi West          Migwani         NaN\\n182           Daniel Nguna             725179206                LL Paralysis               Walking Stick     Mwingi West          Migwani         NaN\\n183           Juliana Nduku            112431417                  Hemiplegia               Walking Stick     Mwingi West          Migwani         NaN\\n184         Benard Kilyungi            746033218                  Hemiplegia               Walking Stick     Mwingi West          Migwani         NaN\\n185        Kikeania Mutisya            757366844                   Blindness                  White cane  Mwingi Central              Nuu         NaN\\n186             Ann Mwendwa            703695291                   Blindness                  White cane  Mwingi Central              Nuu         NaN\\n187               Ben Mulwa            724656158                   Blindness                  White cane  Mwingi Central              Nuu         NaN\\n188         Peninah Kalunda            727722817           Visual impairment                  White cane  Mwingi Central              Nuu         NaN\\n189           Tabitha Ikens            725541281                   Blindness                  White cane  Mwingi Central          Mathuki         NaN\\n190          Vincent Mutati            748663647                   Blindness                  White cane  Mwingi Central            Nguni         NaN\\n191          Esther Muthama            794095387                   Blindness                  White cane  Mwingi Central            Nguni         NaN\\n192            Ruth Syonzau            743328220                   Blindness                  White cane  Mwingi Central            Nguni         NaN\\n193        Rhoda Munyamosye            745053075                   Blindness  White cane/crutches/frames  Mwingi Central            Nguni         NaN\\n194          Kyambi Kavangi            718508369           Partial Blindness                  White cane  Mwingi Central            Nguni         NaN\\n195           Katumi Muasya            794922565                 Visual Loss                  White cane  Mwingi Central            Nguni         NaN\\n196              Mr Nderitu            714414828           Visual impairment                  White cane  Mwingi Central          Central         NaN\\n197            Benard Musee            700618142                   Blindness                  White cane  Mwingi Central            Waita         NaN\\n198            Haffins Mati            715146525           Visual impairment                  White cane  Mwingi Central            Waita         NaN\\n199           Johnson Kyalo            712260399                    Albinism                 Sun-Screams  Mwingi Central          Central         NaN\\n200         Nicholas Mutemi            703444914                  Paraplegia                    Crutches  Mwingi Central          Central         NaN\\n201           Prisca Kisasi            727122778               L.L Paralysis         Auxilliary cructhes  Mwingi Central          Central         NaN\\n202            Annah Musili            785055814                   Paralysis              Elbow crutches  Mwingi Central          Central         NaN\\n203        Elizabeth Munanu            700561878                       Polio                    Crutches  Mwingi Central   Kiomo/Kyethani         NaN\\n204           Victor Ngangi            712748300               Rt hemiplegia                    Crutches  Mwingi Central   Kiomo/Kyethani         NaN\\n205         Pauline Kanguto            704274050                       Polio                    Crutches  Mwingi Central   Kiomo/Kyethani         NaN\\n206        Rhoda Munyamosye            745053075                   Blindness                    Crutches  Mwingi Central            Nguni         NaN\\n207           Solomon Mutua            112637909              B.K amputation                    Crutches  Mwingi Central            Nguni         NaN\\n208          Syombua Musili            752723509               Lf hemiplegia                    Crutches  Mwingi Central            Nguni         NaN\\n209         Kalonzo Kimanzi            727353668               Rf hemiplegia                    Crutches  Mwingi Central            Nguni         NaN\\n210            Joseph Kyalo            727794298                  Hemiplegia                    Crutches  Mwingi Central            Nguni         NaN\\n211           Kameni Musili            708249446       General body weakness         Auxilliary cructhes  Mwingi Central            Nguni         NaN\\n212           David Kimwele            727903177                 B.K ampstee              Elbow crutches  Mwingi Central            Nguni         NaN\\n213         Damaris Kalunda            711333059               Rf hemiplegia                    Crutches  Mwingi Central          Mathuki         NaN\\n214         Katetei Kithuku            704039527                   Paralysis              Elbow crutches  Mwingi Central              Nuu         NaN\\n215            Kyalo Kisovo            700019499           Rf A.K amputation                    Crutches  Mwingi Central              Nuu         NaN\\n216             Grace Mawia            748926993               Rf hemiplegia                    Crutches  Mwingi Central            Waita         NaN\\n217            Musya Ngonds            708949514                  Weak Rf LL              Elbow crutches  Mwingi Central            Waita         NaN\\n218        Elizabeth Martha            728583619                LL Paralysis               Walking Frame  Mwingi Central   Kiomo/Kyethani         NaN\\n219          Joseph Mwendwa            794134750                 LL Weakness               Walking Frame  Mwingi Central   Kiomo/Kyethani         NaN\\n220        Rhoda Munyamosye            745053075                   Blindness               Walking Frame  Mwingi Central            Nguni         NaN\\n221              Mary Vaati            115928170       General body weakness               Walking Frame  Mwingi Central            Nguni         NaN\\n222           Samuel Maluki            711940449                      Rf LLD               Walking Frame  Mwingi Central            Nguni         NaN\\n223            Dorcas Mukai            791551303                 LL Weakness               Walking Frame  Mwingi Central              Nuu         NaN\\n224         Salome Katethya            725156544                  Hemiplegia               Walking Frame  Mwingi Central              Nuu         NaN\\n225          Gloria Wambua             723372138              Celebral palsy                     Pampers   Kitui Central         Nzambani         NaN\\n226            Mutua Mwendi            706078358           Visual impairment                  White cane      Kitui West            Kauwi         NaN\\n227            Kimanzi Ndua            714069037           Visual impairment                  White cane      Kitui West            Kauwi         NaN\\n228            Lucy Munyoki            721554376          Impress amputation                  White cane      Kitui West            Kauwi         NaN\\n229            Mwatha Mutui           7000048291               Hemiparalysis                  White cane      Kitui West            Kauwi         NaN\\n230           Monthe Kawaya            721225081                         Hip              Elbow crutches      Kitui West            Kauwi         NaN\\n231         Raphael Musumbi            727237184       Below knee amputation              Elbow crutches      Kitui West            Kauwi         NaN\\n232  Antony Muthama Munyoki            717550237           Knee Contractures              Elbow crutches      Kitui West            Kauwi         NaN\\n233             Lydia Mulwa            721400851    Rt Below knee prosthesis              Elbow crutches      Kitui West            Kauwi         NaN\\n234        Fredrick Kilonzi            720317183               Limb weakness              Elbow crutches      Kitui West            Kauwi         NaN\\n235    Alice Kanyaa Malombe            722264887               Spinal injury              Elbow crutches      Kitui West            Kauwi         NaN\\n236              Rose Musee            792791563       Rt Low limb paralysis              Elbow crutches      Kitui West            Kauwi         NaN\""
      ]
     },
     "execution_count": 23,
     "metadata": {},
     "output_type": "execute_result"
    }
   ],
   "source": [
    "df.to_string()"
   ]
  },
  {
   "cell_type": "code",
   "execution_count": 24,
   "id": "b13d2648-7d38-4549-8708-da27239d77c6",
   "metadata": {},
   "outputs": [
    {
     "data": {
      "text/plain": [
       "Name                  0\n",
       "Phone                 2\n",
       "Disability Type       1\n",
       "Assistive Device      0\n",
       "Sub-County            0\n",
       "Ward                  0\n",
       "Unnamed: 6          237\n",
       "dtype: int64"
      ]
     },
     "execution_count": 24,
     "metadata": {},
     "output_type": "execute_result"
    }
   ],
   "source": [
    "df.isnull().sum()"
   ]
  },
  {
   "cell_type": "code",
   "execution_count": 30,
   "id": "c8df3c85-85d7-40f4-9360-02017fd3cca8",
   "metadata": {},
   "outputs": [
    {
     "data": {
      "text/plain": [
       "Index(['Name', 'Phone', 'Disability Type', 'Assistive Device', 'Sub-County',\n",
       "       'Ward', 'Unnamed: 6'],\n",
       "      dtype='object')"
      ]
     },
     "execution_count": 30,
     "metadata": {},
     "output_type": "execute_result"
    }
   ],
   "source": [
    "df.columns"
   ]
  },
  {
   "cell_type": "code",
   "execution_count": 40,
   "id": "2bcb9563-9ace-4f62-9bab-aacd1e7db6c2",
   "metadata": {},
   "outputs": [
    {
     "name": "stdout",
     "output_type": "stream",
     "text": [
      "Instances when Paralysis was recorded:\n",
      "                  Name       Phone        Disability Type     Assistive Device  \\\n",
      "24       James Kituku   706616026              Paralysis       Elbow Crutches   \n",
      "79     Kalekye Muasya   715778166              Paralysis       Elbow Crutches   \n",
      "80        Naomi Peter   759373213              Paralysis       Elbow Crutches   \n",
      "117    Marigu Kambati   701761472      Lf limb paralysis             Crutches   \n",
      "120   Mukiri Kithondu   715083898              Paralysis             Crutches   \n",
      "121      Caren Kawira   701657850              Paralysis             Crutches   \n",
      "132  Stephen Mwendwa    797430041       Rt leg paralysis             Crutches   \n",
      "133       Lucy Karimi   701428012              Paralysis       Elbow Crutches   \n",
      "134      Kibara Kivui   796644258       Lt leg Paralysis       Elbow Crutches   \n",
      "136  Joseph Mwangangi   745621901       Rt leg paralysis        Walking Stick   \n",
      "166   Kalumu Mwanditu   704372982         Hemi Paralysis       Elbow Crutches   \n",
      "178     James Kimanzi   759608624        Rf LL paralysis  Auxilliary cructhes   \n",
      "182     Daniel Nguna    725179206           LL Paralysis        Walking Stick   \n",
      "201     Prisca Kisasi   727122778          L.L Paralysis  Auxilliary cructhes   \n",
      "202      Annah Musili   785055814              Paralysis       Elbow crutches   \n",
      "214   Katetei Kithuku   704039527              Paralysis       Elbow crutches   \n",
      "218  Elizabeth Martha   728583619           LL Paralysis        Walking Frame   \n",
      "229      Mwatha Mutui  7000048291          Hemiparalysis           White cane   \n",
      "236        Rose Musee   792791563  Rt Low limb paralysis       Elbow crutches   \n",
      "\n",
      "         Sub-County            Ward  Unnamed: 6  \n",
      "24      Kitui South          Ikutha         NaN  \n",
      "79      Kitui Rural          Kisasi         NaN  \n",
      "80      Kitui Rural          Kisasi         NaN  \n",
      "117    Mwingi North           Katse         NaN  \n",
      "120    Mwingi North        Tseikuru         NaN  \n",
      "121    Mwingi North        Tseikuru         NaN  \n",
      "132    Mwingi North        Tseikuru         NaN  \n",
      "133    Mwingi North        Tseikuru         NaN  \n",
      "134    Mwingi North        Tseikuru         NaN  \n",
      "136    Mwingi North        Tseikuru         NaN  \n",
      "166      Kitui East           Zombe         NaN  \n",
      "178     Mwingi West         Migwani         NaN  \n",
      "182     Mwingi West         Migwani         NaN  \n",
      "201  Mwingi Central         Central         NaN  \n",
      "202  Mwingi Central         Central         NaN  \n",
      "214  Mwingi Central             Nuu         NaN  \n",
      "218  Mwingi Central  Kiomo/Kyethani         NaN  \n",
      "229      Kitui West           Kauwi         NaN  \n",
      "236      Kitui West           Kauwi         NaN  \n"
     ]
    }
   ],
   "source": [
    "Metho = df[df['Disability Type'].str.contains('Paralysis', case=False, na=False)]\n",
    "print(\"Instances when Paralysis was recorded:\\n\", Metho)\n"
   ]
  },
  {
   "cell_type": "code",
   "execution_count": 48,
   "id": "7d670751-ce5d-42a1-b0d6-de68433389db",
   "metadata": {},
   "outputs": [
    {
     "data": {
      "text/plain": [
       "0      True\n",
       "1      True\n",
       "2      True\n",
       "3      True\n",
       "4      True\n",
       "       ... \n",
       "232    True\n",
       "233    True\n",
       "234    True\n",
       "235    True\n",
       "236    True\n",
       "Length: 237, dtype: bool"
      ]
     },
     "execution_count": 48,
     "metadata": {},
     "output_type": "execute_result"
    }
   ],
   "source": [
    "df.isnull().any(axis=1)"
   ]
  },
  {
   "cell_type": "code",
   "execution_count": 19,
   "id": "c598e25b-4703-40e6-89a5-5fed1272bb5c",
   "metadata": {},
   "outputs": [
    {
     "data": {
      "text/plain": [
       "0      False\n",
       "1      False\n",
       "2       True\n",
       "3       True\n",
       "4       True\n",
       "       ...  \n",
       "232    False\n",
       "233    False\n",
       "234    False\n",
       "235    False\n",
       "236    False\n",
       "Name: Assistive Device, Length: 237, dtype: bool"
      ]
     },
     "execution_count": 19,
     "metadata": {},
     "output_type": "execute_result"
    }
   ],
   "source": [
    "df['Assistive Device'].str.contains('Pampers')"
   ]
  },
  {
   "cell_type": "code",
   "execution_count": 21,
   "id": "7e4952a5-42cb-412c-b550-d7c97fb2021a",
   "metadata": {},
   "outputs": [
    {
     "name": "stdout",
     "output_type": "stream",
     "text": [
      "<class 'pandas.core.frame.DataFrame'>\n",
      "RangeIndex: 237 entries, 0 to 236\n",
      "Data columns (total 7 columns):\n",
      " #   Column            Non-Null Count  Dtype  \n",
      "---  ------            --------------  -----  \n",
      " 0   Name              237 non-null    object \n",
      " 1   Phone             235 non-null    object \n",
      " 2   Disability Type   236 non-null    object \n",
      " 3   Assistive Device  237 non-null    object \n",
      " 4   Sub-County        237 non-null    object \n",
      " 5   Ward              237 non-null    object \n",
      " 6   Unnamed: 6        0 non-null      float64\n",
      "dtypes: float64(1), object(6)\n",
      "memory usage: 13.1+ KB\n"
     ]
    }
   ],
   "source": [
    "df.info()"
   ]
  },
  {
   "cell_type": "code",
   "execution_count": 31,
   "id": "30c79165-935b-49fb-a42c-793c16d267ed",
   "metadata": {},
   "outputs": [
    {
     "name": "stderr",
     "output_type": "stream",
     "text": [
      "2025-05-20 19:43:39.586 \n",
      "  \u001b[33m\u001b[1mWarning:\u001b[0m to view this Streamlit app on a browser, run it with the following\n",
      "  command:\n",
      "\n",
      "    streamlit run C:\\Users\\IZOOH\\AppData\\Roaming\\Python\\Python312\\site-packages\\ipykernel_launcher.py [ARGUMENTS]\n"
     ]
    },
    {
     "data": {
      "text/plain": [
       "DeltaGenerator()"
      ]
     },
     "execution_count": 31,
     "metadata": {},
     "output_type": "execute_result"
    }
   ],
   "source": [
    "# app.py\n",
    "import pandas as pd\n",
    "import streamlit as st\n",
    "\n",
    "# Load data\n",
    "df = pd.read_csv(\"C:/Users/IZOOH/Desktop/PWD/PWD_Disability_Set.csv\")  # or df = pd.read_csv('pwd_data.csv')\n",
    "\n",
    "st.title(\"PWD Assistive Device Needs Dashboard\")\n",
    "\n",
    "# Show raw data\n",
    "st.subheader(\"Raw Data\")\n",
    "st.dataframe(df)\n"
   ]
  },
  {
   "cell_type": "code",
   "execution_count": 2,
   "id": "c350b536-dbc1-4ab5-983f-30198526ac3b",
   "metadata": {},
   "outputs": [
    {
     "name": "stdout",
     "output_type": "stream",
     "text": [
      "Collecting secure-smtplib\n",
      "  Downloading secure_smtplib-0.1.1-py2.py3-none-any.whl.metadata (511 bytes)\n",
      "Downloading secure_smtplib-0.1.1-py2.py3-none-any.whl (3.4 kB)\n",
      "Installing collected packages: secure-smtplib\n",
      "Successfully installed secure-smtplib-0.1.1\n",
      "Note: you may need to restart the kernel to use updated packages.\n"
     ]
    },
    {
     "name": "stderr",
     "output_type": "stream",
     "text": [
      "\n",
      "[notice] A new release of pip is available: 25.0 -> 25.1.1\n",
      "[notice] To update, run: python.exe -m pip install --upgrade pip\n"
     ]
    }
   ],
   "source": [
    "pip install secure-smtplib\n"
   ]
  },
  {
   "cell_type": "code",
   "execution_count": 2,
   "id": "a21e503e-c86b-4ea2-8808-63cc6ca88a34",
   "metadata": {},
   "outputs": [
    {
     "name": "stdout",
     "output_type": "stream",
     "text": [
      "Requirement already satisfied: python-dotenv in f:\\anaconda\\lib\\site-packages (0.21.0)\n",
      "Note: you may need to restart the kernel to use updated packages.\n"
     ]
    },
    {
     "name": "stderr",
     "output_type": "stream",
     "text": [
      "\n",
      "[notice] A new release of pip is available: 25.0 -> 25.1.1\n",
      "[notice] To update, run: python.exe -m pip install --upgrade pip\n"
     ]
    }
   ],
   "source": [
    "pip install python-dotenv\n"
   ]
  },
  {
   "cell_type": "code",
   "execution_count": null,
   "id": "0d0c835d-5c0f-4dbe-acd6-e99945b3f278",
   "metadata": {},
   "outputs": [],
   "source": []
  }
 ],
 "metadata": {
  "kernelspec": {
   "display_name": "Python 3 (ipykernel)",
   "language": "python",
   "name": "python3"
  },
  "language_info": {
   "codemirror_mode": {
    "name": "ipython",
    "version": 3
   },
   "file_extension": ".py",
   "mimetype": "text/x-python",
   "name": "python",
   "nbconvert_exporter": "python",
   "pygments_lexer": "ipython3",
   "version": "3.12.7"
  }
 },
 "nbformat": 4,
 "nbformat_minor": 5
}
